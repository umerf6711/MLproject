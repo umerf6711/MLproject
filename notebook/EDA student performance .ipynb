{
 "cells": [
  {
   "cell_type": "markdown",
   "metadata": {},
   "source": [
    "# Student Performance Indicator"
   ]
  },
  {
   "cell_type": "markdown",
   "metadata": {},
   "source": [
    "**Life cycle of Machine Learning Project**"
   ]
  },
  {
   "cell_type": "markdown",
   "metadata": {},
   "source": [
    "* Understand the problem statement\n",
    "* Data Collection\n",
    "* Data checks to perform \n",
    "* Exploratory Data Analysis\n",
    "* Data Pre-Processing\n",
    "* Model Training\n",
    "* Choose best model"
   ]
  },
  {
   "cell_type": "markdown",
   "metadata": {},
   "source": [
    "**1. Problem Statement**"
   ]
  },
  {
   "cell_type": "markdown",
   "metadata": {},
   "source": [
    "* This project is to understand how students performance(test score) affected by other variables such as Gender,Ethnicity,Parental level of education, Lunch and test preparation course."
   ]
  },
  {
   "cell_type": "markdown",
   "metadata": {},
   "source": [
    "**2. Data Collection**"
   ]
  },
  {
   "cell_type": "markdown",
   "metadata": {},
   "source": [
    "* Dataset Source - https://www.kaggle.com/datasets/spscientist/students-performance-in-exams?datasetld=74977"
   ]
  },
  {
   "cell_type": "markdown",
   "metadata": {},
   "source": [
    "**2.1 Import data and Requird Packages**"
   ]
  },
  {
   "cell_type": "markdown",
   "metadata": {},
   "source": [
    "* import libraries"
   ]
  },
  {
   "cell_type": "code",
   "execution_count": null,
   "metadata": {},
   "outputs": [
    {
     "ename": "",
     "evalue": "",
     "output_type": "error",
     "traceback": [
      "\u001b[1;31mRunning cells with 'd:\\dataScience\\mlproject\\venv\\python.exe' requires the ipykernel package.\n",
      "\u001b[1;31mRun the following command to install 'ipykernel' into the Python environment. \n",
      "\u001b[1;31mCommand: 'conda install -p d:\\dataScience\\mlproject\\venv ipykernel --update-deps --force-reinstall'"
     ]
    }
   ],
   "source": [
    "import numpy as np \n",
    "import pandas as pd \n",
    "import seaborn as sns\n",
    "import matplotlib.pyplot as plt\n",
    "%matplotlib inline\n",
    "import warnings\n",
    "warnings.filterwarnings('ignore')"
   ]
  },
  {
   "cell_type": "markdown",
   "metadata": {},
   "source": [
    "* Import data "
   ]
  },
  {
   "cell_type": "code",
   "execution_count": null,
   "metadata": {},
   "outputs": [
    {
     "ename": "",
     "evalue": "",
     "output_type": "error",
     "traceback": [
      "\u001b[1;31mRunning cells with 'd:\\dataScience\\mlproject\\venv\\python.exe' requires the ipykernel package.\n",
      "\u001b[1;31mRun the following command to install 'ipykernel' into the Python environment. \n",
      "\u001b[1;31mCommand: 'conda install -p d:\\dataScience\\mlproject\\venv ipykernel --update-deps --force-reinstall'"
     ]
    }
   ],
   "source": [
    "df = pd.read_csv('data/stud.csv')"
   ]
  },
  {
   "cell_type": "markdown",
   "metadata": {},
   "source": [
    "* Top 5 rows of dataset"
   ]
  },
  {
   "cell_type": "code",
   "execution_count": null,
   "metadata": {},
   "outputs": [
    {
     "ename": "",
     "evalue": "",
     "output_type": "error",
     "traceback": [
      "\u001b[1;31mRunning cells with 'd:\\dataScience\\mlproject\\venv\\python.exe' requires the ipykernel package.\n",
      "\u001b[1;31mRun the following command to install 'ipykernel' into the Python environment. \n",
      "\u001b[1;31mCommand: 'conda install -p d:\\dataScience\\mlproject\\venv ipykernel --update-deps --force-reinstall'"
     ]
    }
   ],
   "source": [
    "df.head(5)"
   ]
  },
  {
   "cell_type": "markdown",
   "metadata": {},
   "source": [
    "* Shape of the data"
   ]
  },
  {
   "cell_type": "code",
   "execution_count": null,
   "metadata": {},
   "outputs": [
    {
     "ename": "",
     "evalue": "",
     "output_type": "error",
     "traceback": [
      "\u001b[1;31mRunning cells with 'd:\\dataScience\\mlproject\\venv\\python.exe' requires the ipykernel package.\n",
      "\u001b[1;31mRun the following command to install 'ipykernel' into the Python environment. \n",
      "\u001b[1;31mCommand: 'conda install -p d:\\dataScience\\mlproject\\venv ipykernel --update-deps --force-reinstall'"
     ]
    }
   ],
   "source": [
    "df.shape"
   ]
  },
  {
   "cell_type": "markdown",
   "metadata": {},
   "source": [
    "*Dataset has 8 columns and 1000 rows.*"
   ]
  },
  {
   "cell_type": "markdown",
   "metadata": {},
   "source": [
    "**3. Data checks to perform**"
   ]
  },
  {
   "cell_type": "markdown",
   "metadata": {},
   "source": [
    "* Check missing Values\n",
    "* Check duplicates\n",
    "* Check Data type\n",
    "* Check the number of unique values of each column\n",
    "* Check statistics of dataset\n",
    "* Check various categories present in the different categorical column"
   ]
  },
  {
   "cell_type": "markdown",
   "metadata": {},
   "source": [
    "**3.1 Check missing values**"
   ]
  },
  {
   "cell_type": "code",
   "execution_count": null,
   "metadata": {},
   "outputs": [
    {
     "ename": "",
     "evalue": "",
     "output_type": "error",
     "traceback": [
      "\u001b[1;31mRunning cells with 'd:\\dataScience\\mlproject\\venv\\python.exe' requires the ipykernel package.\n",
      "\u001b[1;31mRun the following command to install 'ipykernel' into the Python environment. \n",
      "\u001b[1;31mCommand: 'conda install -p d:\\dataScience\\mlproject\\venv ipykernel --update-deps --force-reinstall'"
     ]
    }
   ],
   "source": [
    "df.isnull().sum()"
   ]
  },
  {
   "cell_type": "markdown",
   "metadata": {},
   "source": [
    "*There is no missing value in dataset*"
   ]
  },
  {
   "cell_type": "markdown",
   "metadata": {},
   "source": [
    "**3.2 Check Duplicates**"
   ]
  },
  {
   "cell_type": "code",
   "execution_count": null,
   "metadata": {},
   "outputs": [
    {
     "ename": "",
     "evalue": "",
     "output_type": "error",
     "traceback": [
      "\u001b[1;31mRunning cells with 'd:\\dataScience\\mlproject\\venv\\python.exe' requires the ipykernel package.\n",
      "\u001b[1;31mRun the following command to install 'ipykernel' into the Python environment. \n",
      "\u001b[1;31mCommand: 'conda install -p d:\\dataScience\\mlproject\\venv ipykernel --update-deps --force-reinstall'"
     ]
    }
   ],
   "source": [
    "df.duplicated().sum()"
   ]
  },
  {
   "cell_type": "markdown",
   "metadata": {},
   "source": [
    "*There is no deplicate values in dataset*"
   ]
  },
  {
   "cell_type": "markdown",
   "metadata": {},
   "source": [
    "**3.3 Check Data type**"
   ]
  },
  {
   "cell_type": "code",
   "execution_count": null,
   "metadata": {},
   "outputs": [
    {
     "ename": "",
     "evalue": "",
     "output_type": "error",
     "traceback": [
      "\u001b[1;31mRunning cells with 'd:\\dataScience\\mlproject\\venv\\python.exe' requires the ipykernel package.\n",
      "\u001b[1;31mRun the following command to install 'ipykernel' into the Python environment. \n",
      "\u001b[1;31mCommand: 'conda install -p d:\\dataScience\\mlproject\\venv ipykernel --update-deps --force-reinstall'"
     ]
    }
   ],
   "source": [
    "df.info()"
   ]
  },
  {
   "cell_type": "markdown",
   "metadata": {},
   "source": [
    "*5 columns with object data type and 3 columns with integer datatype*"
   ]
  },
  {
   "cell_type": "markdown",
   "metadata": {},
   "source": [
    "**3.4 Check number of unique values in each column**"
   ]
  },
  {
   "cell_type": "code",
   "execution_count": null,
   "metadata": {},
   "outputs": [
    {
     "ename": "",
     "evalue": "",
     "output_type": "error",
     "traceback": [
      "\u001b[1;31mRunning cells with 'd:\\dataScience\\mlproject\\venv\\python.exe' requires the ipykernel package.\n",
      "\u001b[1;31mRun the following command to install 'ipykernel' into the Python environment. \n",
      "\u001b[1;31mCommand: 'conda install -p d:\\dataScience\\mlproject\\venv ipykernel --update-deps --force-reinstall'"
     ]
    }
   ],
   "source": [
    "print('Number of unique values in each column:\\n',df.nunique())"
   ]
  },
  {
   "cell_type": "markdown",
   "metadata": {},
   "source": [
    "**3.5 Check Statistics of dataset**"
   ]
  },
  {
   "cell_type": "code",
   "execution_count": null,
   "metadata": {},
   "outputs": [
    {
     "ename": "",
     "evalue": "",
     "output_type": "error",
     "traceback": [
      "\u001b[1;31mRunning cells with 'd:\\dataScience\\mlproject\\venv\\python.exe' requires the ipykernel package.\n",
      "\u001b[1;31mRun the following command to install 'ipykernel' into the Python environment. \n",
      "\u001b[1;31mCommand: 'conda install -p d:\\dataScience\\mlproject\\venv ipykernel --update-deps --force-reinstall'"
     ]
    }
   ],
   "source": [
    "df.describe()"
   ]
  },
  {
   "cell_type": "markdown",
   "metadata": {},
   "source": [
    "**3.6 Check various categories present in the different categorical column**"
   ]
  },
  {
   "cell_type": "code",
   "execution_count": null,
   "metadata": {},
   "outputs": [
    {
     "ename": "",
     "evalue": "",
     "output_type": "error",
     "traceback": [
      "\u001b[1;31mRunning cells with 'd:\\dataScience\\mlproject\\venv\\python.exe' requires the ipykernel package.\n",
      "\u001b[1;31mRun the following command to install 'ipykernel' into the Python environment. \n",
      "\u001b[1;31mCommand: 'conda install -p d:\\dataScience\\mlproject\\venv ipykernel --update-deps --force-reinstall'"
     ]
    }
   ],
   "source": [
    "print('Categories in gender variable:                       ', df.gender.unique())\n",
    "print('Categories in race_ethnicity variable:               ', df.race_ethnicity.unique())\n",
    "print('Categories in parental_level_of_education variable:  ', df.parental_level_of_education.unique())\n",
    "print('Categories in lunch variable:                        ', df.lunch.unique())\n",
    "print('Categories in test_preparation_course variable:      ', df.test_preparation_course.unique())\n"
   ]
  },
  {
   "cell_type": "code",
   "execution_count": null,
   "metadata": {},
   "outputs": [
    {
     "ename": "",
     "evalue": "",
     "output_type": "error",
     "traceback": [
      "\u001b[1;31mRunning cells with 'd:\\dataScience\\mlproject\\venv\\python.exe' requires the ipykernel package.\n",
      "\u001b[1;31mRun the following command to install 'ipykernel' into the Python environment. \n",
      "\u001b[1;31mCommand: 'conda install -p d:\\dataScience\\mlproject\\venv ipykernel --update-deps --force-reinstall'"
     ]
    }
   ],
   "source": [
    "#define numerical and categorical columns\n",
    "\n",
    "numerical_feature = [feature for feature in df.columns if df[feature].dtype != 'O' ]\n",
    "categorical_feature = [feature for feature in df.columns if df[feature].dtype == 'O']\n",
    "print('we have {} numerical features: {}'.format(len(numerical_feature),numerical_feature))\n",
    "print('we have {} categorical_features: {}'.format(len(categorical_feature),categorical_feature))"
   ]
  },
  {
   "cell_type": "markdown",
   "metadata": {},
   "source": [
    "**3.8 Feature Engineering: Adding 'Total score' and 'Average score'**"
   ]
  },
  {
   "cell_type": "code",
   "execution_count": null,
   "metadata": {},
   "outputs": [
    {
     "ename": "",
     "evalue": "",
     "output_type": "error",
     "traceback": [
      "\u001b[1;31mRunning cells with 'd:\\dataScience\\mlproject\\venv\\python.exe' requires the ipykernel package.\n",
      "\u001b[1;31mRun the following command to install 'ipykernel' into the Python environment. \n",
      "\u001b[1;31mCommand: 'conda install -p d:\\dataScience\\mlproject\\venv ipykernel --update-deps --force-reinstall'"
     ]
    }
   ],
   "source": [
    "df.head(2)"
   ]
  },
  {
   "cell_type": "code",
   "execution_count": null,
   "metadata": {},
   "outputs": [
    {
     "ename": "",
     "evalue": "",
     "output_type": "error",
     "traceback": [
      "\u001b[1;31mRunning cells with 'd:\\dataScience\\mlproject\\venv\\python.exe' requires the ipykernel package.\n",
      "\u001b[1;31mRun the following command to install 'ipykernel' into the Python environment. \n",
      "\u001b[1;31mCommand: 'conda install -p d:\\dataScience\\mlproject\\venv ipykernel --update-deps --force-reinstall'"
     ]
    }
   ],
   "source": [
    "df['total_score'] = df.math_score\t+ df.reading_score + df.writing_score \n",
    "df['average_score'] = df.total_score/3\n",
    "\n",
    "df.head(2)"
   ]
  },
  {
   "cell_type": "code",
   "execution_count": null,
   "metadata": {},
   "outputs": [
    {
     "ename": "",
     "evalue": "",
     "output_type": "error",
     "traceback": [
      "\u001b[1;31mRunning cells with 'd:\\dataScience\\mlproject\\venv\\python.exe' requires the ipykernel package.\n",
      "\u001b[1;31mRun the following command to install 'ipykernel' into the Python environment. \n",
      "\u001b[1;31mCommand: 'conda install -p d:\\dataScience\\mlproject\\venv ipykernel --update-deps --force-reinstall'"
     ]
    }
   ],
   "source": [
    "print('Number of Students with full marks in math:     ',df[df['math_score']==100]['gender'].count())\n",
    "print('Number of students with full marks in reading: ' ,df[df['reading_score']==100]['gender'].count())\n",
    "print('Number of students wwith full marks in writing:',df[df['writing_score']==100]['gender'].count())"
   ]
  },
  {
   "cell_type": "code",
   "execution_count": null,
   "metadata": {},
   "outputs": [
    {
     "ename": "",
     "evalue": "",
     "output_type": "error",
     "traceback": [
      "\u001b[1;31mRunning cells with 'd:\\dataScience\\mlproject\\venv\\python.exe' requires the ipykernel package.\n",
      "\u001b[1;31mRun the following command to install 'ipykernel' into the Python environment. \n",
      "\u001b[1;31mCommand: 'conda install -p d:\\dataScience\\mlproject\\venv ipykernel --update-deps --force-reinstall'"
     ]
    }
   ],
   "source": [
    "print('Number of Students with less than or equal marks in math:     ',df[df['math_score']<=20]['gender'].count())\n",
    "print('Number of students with less than or equalmarks in reading:  ' ,df[df['reading_score']<=20]['gender'].count())\n",
    "print('Number of students wwith less than or equal marks in writing: ',df[df['writing_score']<=20]['gender'].count())"
   ]
  },
  {
   "cell_type": "markdown",
   "metadata": {},
   "source": [
    "**4. Exploratory Data Analysis**"
   ]
  },
  {
   "cell_type": "markdown",
   "metadata": {},
   "source": [
    "**4.1 Visualize average score distribution to make some conclusion.**"
   ]
  },
  {
   "cell_type": "markdown",
   "metadata": {},
   "source": [
    "* Histogram\n",
    "* Kernel Distribution Function"
   ]
  },
  {
   "cell_type": "markdown",
   "metadata": {},
   "source": [
    "**4.1.1 Histogram**"
   ]
  },
  {
   "cell_type": "code",
   "execution_count": null,
   "metadata": {},
   "outputs": [
    {
     "ename": "",
     "evalue": "",
     "output_type": "error",
     "traceback": [
      "\u001b[1;31mRunning cells with 'd:\\dataScience\\mlproject\\venv\\python.exe' requires the ipykernel package.\n",
      "\u001b[1;31mRun the following command to install 'ipykernel' into the Python environment. \n",
      "\u001b[1;31mCommand: 'conda install -p d:\\dataScience\\mlproject\\venv ipykernel --update-deps --force-reinstall'"
     ]
    }
   ],
   "source": [
    "plt.figure(figsize=(15,7))\n",
    "\n",
    "plt.subplot(1,2,1)\n",
    "sns.histplot(data=df,x='average_score',bins=30,kde=True,color='g')\n",
    "\n",
    "plt.subplot(1,2,2)\n",
    "sns.histplot(data=df,x='average_score',kde=True,hue='gender')\n",
    "\n",
    "plt.show()"
   ]
  },
  {
   "cell_type": "markdown",
   "metadata": {},
   "source": [
    "**4.1.2 WRT total_score**"
   ]
  },
  {
   "cell_type": "code",
   "execution_count": null,
   "metadata": {},
   "outputs": [
    {
     "ename": "",
     "evalue": "",
     "output_type": "error",
     "traceback": [
      "\u001b[1;31mRunning cells with 'd:\\dataScience\\mlproject\\venv\\python.exe' requires the ipykernel package.\n",
      "\u001b[1;31mRun the following command to install 'ipykernel' into the Python environment. \n",
      "\u001b[1;31mCommand: 'conda install -p d:\\dataScience\\mlproject\\venv ipykernel --update-deps --force-reinstall'"
     ]
    }
   ],
   "source": [
    "plt.figure(figsize=(15,7))\n",
    "\n",
    "plt.subplot(1,2,1)\n",
    "sns.histplot(data=df,x='total_score',bins=30,kde=True,color='g')\n",
    "\n",
    "plt.subplot(1,2,2)\n",
    "sns.histplot(data=df,x='total_score',hue='gender')\n",
    "\n",
    "plt.show()"
   ]
  },
  {
   "cell_type": "markdown",
   "metadata": {},
   "source": [
    "**4.1.3 With respect to luch**"
   ]
  },
  {
   "cell_type": "code",
   "execution_count": null,
   "metadata": {},
   "outputs": [
    {
     "ename": "",
     "evalue": "",
     "output_type": "error",
     "traceback": [
      "\u001b[1;31mRunning cells with 'd:\\dataScience\\mlproject\\venv\\python.exe' requires the ipykernel package.\n",
      "\u001b[1;31mRun the following command to install 'ipykernel' into the Python environment. \n",
      "\u001b[1;31mCommand: 'conda install -p d:\\dataScience\\mlproject\\venv ipykernel --update-deps --force-reinstall'"
     ]
    }
   ],
   "source": [
    "fig = plt.figure(figsize=(25,7))\n",
    "plt.subplot(1,3,1)\n",
    "plt.title('Students average_score WRT luch')\n",
    "sns.histplot(data=df,x='average_score',kde=True,hue='lunch')\n",
    "\n",
    "plt.subplot(1,3,2)\n",
    "plt.title('Male Students average_score WRT luch')\n",
    "sns.histplot(data=df[df.gender=='male'],x='average_score',kde=True,hue='lunch')\n",
    "\n",
    "plt.subplot(1,3,3)\n",
    "plt.title('Female Students average_score WRT luch')\n",
    "sns.histplot(data=df[df.gender=='female'],x='average_score',kde=True,hue='lunch')\n",
    "\n",
    "plt.show()"
   ]
  },
  {
   "cell_type": "markdown",
   "metadata": {},
   "source": [
    "**Insights**"
   ]
  },
  {
   "cell_type": "markdown",
   "metadata": {},
   "source": [
    "* Standard lunch helps to perform well in exams either male student or female."
   ]
  },
  {
   "cell_type": "markdown",
   "metadata": {},
   "source": [
    "**4.1.4 WRT parental_level_of_education**"
   ]
  },
  {
   "cell_type": "code",
   "execution_count": null,
   "metadata": {},
   "outputs": [
    {
     "ename": "",
     "evalue": "",
     "output_type": "error",
     "traceback": [
      "\u001b[1;31mRunning cells with 'd:\\dataScience\\mlproject\\venv\\python.exe' requires the ipykernel package.\n",
      "\u001b[1;31mRun the following command to install 'ipykernel' into the Python environment. \n",
      "\u001b[1;31mCommand: 'conda install -p d:\\dataScience\\mlproject\\venv ipykernel --update-deps --force-reinstall'"
     ]
    }
   ],
   "source": [
    "fig = plt.figure(figsize=(25,7))\n",
    "plt.subplot(1,3,1)\n",
    "plt.title('Students average_score WRT parental_level_of_education')\n",
    "sns.histplot(data=df,x='average_score',kde=True,hue='parental_level_of_education')\n",
    "\n",
    "plt.subplot(1,3,2)\n",
    "plt.title('Male Students average_score WRT parental_level_of_education')\n",
    "sns.histplot(data=df[df.gender=='male'],x='average_score',kde=True,hue='parental_level_of_education')\n",
    "\n",
    "plt.subplot(1,3,3)\n",
    "plt.title('Female Students average_score WRT parental_level_of_education')\n",
    "sns.histplot(data=df[df.gender=='female'],x='average_score',kde=True,hue='parental_level_of_education')\n",
    "\n",
    "plt.show()"
   ]
  },
  {
   "cell_type": "markdown",
   "metadata": {},
   "source": [
    "**Insight**"
   ]
  },
  {
   "cell_type": "markdown",
   "metadata": {},
   "source": [
    "* parental_level_of_education does not effect well on students performance in exams"
   ]
  },
  {
   "cell_type": "markdown",
   "metadata": {},
   "source": [
    "**4.1.5 WRT race_ethnicity**"
   ]
  },
  {
   "cell_type": "code",
   "execution_count": null,
   "metadata": {},
   "outputs": [
    {
     "ename": "",
     "evalue": "",
     "output_type": "error",
     "traceback": [
      "\u001b[1;31mRunning cells with 'd:\\dataScience\\mlproject\\venv\\python.exe' requires the ipykernel package.\n",
      "\u001b[1;31mRun the following command to install 'ipykernel' into the Python environment. \n",
      "\u001b[1;31mCommand: 'conda install -p d:\\dataScience\\mlproject\\venv ipykernel --update-deps --force-reinstall'"
     ]
    }
   ],
   "source": [
    "fig = plt.figure(figsize=(25,7))\n",
    "plt.subplot(1,3,1)\n",
    "plt.title('Students average_score WRT race_ethnicity')\n",
    "sns.histplot(data=df,x='average_score',kde=True,hue='race_ethnicity')\n",
    "\n",
    "plt.subplot(1,3,2)\n",
    "plt.title('Male Students average_score WRT race_ethnicity')\n",
    "sns.histplot(data=df[df.gender=='male'],x='average_score',kde=True,hue='race_ethnicity')\n",
    "\n",
    "plt.subplot(1,3,3)\n",
    "plt.title('Female Students average_score WRT race_ethnicity')\n",
    "sns.histplot(data=df[df.gender=='female'],x='average_score',kde=True,hue='race_ethnicity')\n",
    "\n",
    "plt.show()"
   ]
  },
  {
   "cell_type": "markdown",
   "metadata": {},
   "source": [
    "**Insight**"
   ]
  },
  {
   "cell_type": "markdown",
   "metadata": {},
   "source": [
    "* Students belong to group A and group B tend to perform poorly in exams"
   ]
  },
  {
   "cell_type": "markdown",
   "metadata": {},
   "source": [
    "**4.2.1 Maximum score of students in three subjects**"
   ]
  },
  {
   "cell_type": "code",
   "execution_count": null,
   "metadata": {},
   "outputs": [
    {
     "ename": "",
     "evalue": "",
     "output_type": "error",
     "traceback": [
      "\u001b[1;31mRunning cells with 'd:\\dataScience\\mlproject\\venv\\python.exe' requires the ipykernel package.\n",
      "\u001b[1;31mRun the following command to install 'ipykernel' into the Python environment. \n",
      "\u001b[1;31mCommand: 'conda install -p d:\\dataScience\\mlproject\\venv ipykernel --update-deps --force-reinstall'"
     ]
    }
   ],
   "source": [
    "fig = plt.figure(figsize=(25,7))\n",
    "plt.subplot(1,3,1)\n",
    "plt.title('Math score')\n",
    "sns.violinplot(data=df,y='math_score',color='red',linewidth=3)\n",
    "\n",
    "plt.subplot(1,3,2)\n",
    "plt.title('Reading score')\n",
    "sns.violinplot(data=df,y='reading_score',color='blue',linewidth=2)\n",
    "\n",
    "plt.subplot(1,3,3)\n",
    "plt.title('writing score')\n",
    "sns.violinplot(data=df,y='writing_score',color='green',linewidth=1)\n",
    "\n",
    "plt.show()"
   ]
  },
  {
   "cell_type": "markdown",
   "metadata": {},
   "source": [
    "**Insight**"
   ]
  },
  {
   "cell_type": "markdown",
   "metadata": {},
   "source": [
    "* Most of the students score between 60-80."
   ]
  },
  {
   "cell_type": "markdown",
   "metadata": {},
   "source": [
    "**4.3 Multivariate Analysis using pieplot**"
   ]
  },
  {
   "cell_type": "code",
   "execution_count": null,
   "metadata": {},
   "outputs": [
    {
     "ename": "",
     "evalue": "",
     "output_type": "error",
     "traceback": [
      "\u001b[1;31mRunning cells with 'd:\\dataScience\\mlproject\\venv\\python.exe' requires the ipykernel package.\n",
      "\u001b[1;31mRun the following command to install 'ipykernel' into the Python environment. \n",
      "\u001b[1;31mCommand: 'conda install -p d:\\dataScience\\mlproject\\venv ipykernel --update-deps --force-reinstall'"
     ]
    }
   ],
   "source": [
    "plt.rcParams['figure.figsize']=(30,12)\n",
    "\n",
    "plt.subplot(1,5,1)\n",
    "size = df.gender.value_counts()\n",
    "labels = 'Female','Male'\n",
    "colors = ['red','green']\n",
    "plt.title('Gender',fontsize=20)\n",
    "plt.axis('off')\n",
    "plt.pie(size,labels=labels,colors=colors,autopct='%2f%%')\n",
    "\n",
    "plt.subplot(1,5,2)\n",
    "size = df.race_ethnicity.value_counts()\n",
    "labels = 'group A','group B','group C','group D','group E'\n",
    "colors = ['red','green','blue','white','skyBLUE']\n",
    "plt.title('race_ethnicity',fontsize=20)\n",
    "plt.axis('off')\n",
    "plt.pie(size,labels=labels,colors=colors,autopct='%2f%%')\n",
    "\n",
    "plt.subplot(1,5,3)\n",
    "size = df.parental_level_of_education.value_counts()\n",
    "labels = 'bachelors degree','some college','masters degree','associates degree','high school','some high school\t'\n",
    "colors = ['red','green','blue','white','skyBLUE','maroon']\n",
    "plt.title('parental_level_of_education',fontsize=20)\n",
    "plt.axis('off')\n",
    "plt.pie(size,labels=labels,colors=colors,autopct='%2f%%')\n",
    "\n",
    "plt.subplot(1,5,4)\n",
    "size = df.lunch.value_counts()\n",
    "labels = 'standard','free/reduced'\n",
    "colors = ['skyBLUE','maroon']\n",
    "plt.title('lunch',fontsize=20)\n",
    "plt.axis('off')\n",
    "plt.pie(size,labels=labels,colors=colors,autopct='%2f%%')\n",
    "\n",
    "plt.subplot(1,5,5)\n",
    "size = df.test_preparation_course.value_counts()\n",
    "labels = 'none\t','completed'\n",
    "colors = ['skyBLUE','maroon']\n",
    "plt.title('test_preparation_course',fontsize=20)\n",
    "plt.axis('off')\n",
    "plt.pie(size,labels=labels,colors=colors,autopct='%2f%%')\n",
    "\n",
    "plt.tight_layout()\n",
    "plt.grid()\n",
    "\n",
    "plt.show()\n"
   ]
  },
  {
   "cell_type": "markdown",
   "metadata": {},
   "source": [
    "**Insights**"
   ]
  },
  {
   "cell_type": "markdown",
   "metadata": {},
   "source": [
    "* Number of male and female students are almost equal.\n",
    "* Students with group A are greater in number.\n",
    "* Number of students having standard lunch are greater.\n",
    "* Number of students who have not enrolled in test preparation are greater."
   ]
  },
  {
   "cell_type": "markdown",
   "metadata": {},
   "source": [
    "**4.4 Feature vise Visualization**"
   ]
  },
  {
   "cell_type": "markdown",
   "metadata": {},
   "source": [
    "* How is distribution of gender?\n",
    "* Gender has any impact on students performance?"
   ]
  },
  {
   "cell_type": "markdown",
   "metadata": {},
   "source": [
    "**4.4.1 Univariate Analysis (How is distribution of Gender?)**"
   ]
  },
  {
   "cell_type": "code",
   "execution_count": null,
   "metadata": {},
   "outputs": [
    {
     "ename": "",
     "evalue": "",
     "output_type": "error",
     "traceback": [
      "\u001b[1;31mRunning cells with 'd:\\dataScience\\mlproject\\venv\\python.exe' requires the ipykernel package.\n",
      "\u001b[1;31mRun the following command to install 'ipykernel' into the Python environment. \n",
      "\u001b[1;31mCommand: 'conda install -p d:\\dataScience\\mlproject\\venv ipykernel --update-deps --force-reinstall'"
     ]
    }
   ],
   "source": [
    "f,ax = plt.subplots(1,2,figsize=(10,5))\n",
    "sns.countplot(data=df,x=df.gender,palette='bright',ax=ax[0],saturation=0.95)\n",
    "for container in ax[0].containers:\n",
    "    ax[0].bar_label(container,color='black',size=20)\n",
    "\n",
    "plt.pie(x=df.gender.value_counts(),labels=['Male','Female'],explode=[0,0.1],autopct='%1.1f%%',shadow=True,colors=[\"#ff4d4d\"])\n",
    "plt.show()\n"
   ]
  },
  {
   "cell_type": "markdown",
   "metadata": {},
   "source": [
    "**Insights**"
   ]
  },
  {
   "cell_type": "markdown",
   "metadata": {},
   "source": [
    "* Gender has balanced data with 518(48%) females and 482(52%) male."
   ]
  },
  {
   "cell_type": "markdown",
   "metadata": {},
   "source": [
    "**Is gender has any impact on students performance?**"
   ]
  },
  {
   "cell_type": "code",
   "execution_count": null,
   "metadata": {},
   "outputs": [
    {
     "ename": "",
     "evalue": "",
     "output_type": "error",
     "traceback": [
      "\u001b[1;31mRunning cells with 'd:\\dataScience\\mlproject\\venv\\python.exe' requires the ipykernel package.\n",
      "\u001b[1;31mRun the following command to install 'ipykernel' into the Python environment. \n",
      "\u001b[1;31mCommand: 'conda install -p d:\\dataScience\\mlproject\\venv ipykernel --update-deps --force-reinstall'"
     ]
    }
   ],
   "source": [
    "gender_group = df.groupby('gender').mean()\n",
    "gender_group"
   ]
  },
  {
   "cell_type": "code",
   "execution_count": null,
   "metadata": {},
   "outputs": [
    {
     "ename": "",
     "evalue": "",
     "output_type": "error",
     "traceback": [
      "\u001b[1;31mRunning cells with 'd:\\dataScience\\mlproject\\venv\\python.exe' requires the ipykernel package.\n",
      "\u001b[1;31mRun the following command to install 'ipykernel' into the Python environment. \n",
      "\u001b[1;31mCommand: 'conda install -p d:\\dataScience\\mlproject\\venv ipykernel --update-deps --force-reinstall'"
     ]
    }
   ],
   "source": [
    "plt.figure(figsize=(10,8))\n",
    "\n",
    "x = ['total score','math average']\n",
    "\n",
    "female_score = [gender_group['average_score'][0],gender_group['math_score'][0]]\n",
    "male_score = [gender_group['average_score'][1],gender_group['math_score'][1]]\n",
    "\n",
    "x_axis = np.arange(len(x))\n",
    "\n",
    "plt.bar(x_axis - 0.2, male_score, 0.4 , label='Male')\n",
    "plt.bar(x_axis + 0.2 , female_score, 0.4 , label = 'Female')\n",
    "\n",
    "plt.xticks(x_axis,x)\n",
    "plt.ylabel('Marks')\n",
    "plt.title('Total average vs math average marks in both genders',fontweight='bold')\n",
    "plt.legend()\n",
    "plt.show()"
   ]
  },
  {
   "cell_type": "markdown",
   "metadata": {},
   "source": [
    "**Insights**"
   ]
  },
  {
   "cell_type": "markdown",
   "metadata": {},
   "source": [
    "* On average female has better over all score than men.\n",
    "* male as scored higher in math."
   ]
  },
  {
   "cell_type": "markdown",
   "metadata": {},
   "source": [
    "**4.4.2 RACE_ETHNICITY COLUMN**"
   ]
  },
  {
   "cell_type": "markdown",
   "metadata": {},
   "source": [
    "* How is group wise distribution??\n",
    "* Is race_ethnicity has any impact on students performance?"
   ]
  },
  {
   "cell_type": "markdown",
   "metadata": {},
   "source": [
    "**Univariate analysis (how is group wise distribution?)**"
   ]
  },
  {
   "cell_type": "code",
   "execution_count": null,
   "metadata": {},
   "outputs": [
    {
     "ename": "",
     "evalue": "",
     "output_type": "error",
     "traceback": [
      "\u001b[1;31mRunning cells with 'd:\\dataScience\\mlproject\\venv\\python.exe' requires the ipykernel package.\n",
      "\u001b[1;31mRun the following command to install 'ipykernel' into the Python environment. \n",
      "\u001b[1;31mCommand: 'conda install -p d:\\dataScience\\mlproject\\venv ipykernel --update-deps --force-reinstall'"
     ]
    }
   ],
   "source": [
    "f,ax = plt.subplots(1,2,figsize=(10,5))\n",
    "sns.countplot(data=df,x=df.race_ethnicity,palette='bright',ax=ax[0],saturation=0.95)\n",
    "for container in ax[0].containers:\n",
    "    ax[0].bar_label(container,color='black',size=20)\n",
    "\n",
    "plt.pie(x=df.race_ethnicity.value_counts(),labels=df.race_ethnicity.value_counts().index,explode=[0.1,0,0,0,0],autopct='%1.1f%%',shadow=True,colors=[\"#ff4d4d\"])\n",
    "plt.show()"
   ]
  },
  {
   "cell_type": "markdown",
   "metadata": {},
   "source": [
    "**Insights**"
   ]
  },
  {
   "cell_type": "markdown",
   "metadata": {},
   "source": [
    "* Most of the students belonging to group C and D "
   ]
  },
  {
   "cell_type": "markdown",
   "metadata": {},
   "source": [
    "**Bivariate analysis(Race_ethnicity has any impact on students performance?)**"
   ]
  },
  {
   "cell_type": "code",
   "execution_count": null,
   "metadata": {},
   "outputs": [
    {
     "ename": "",
     "evalue": "",
     "output_type": "error",
     "traceback": [
      "\u001b[1;31mRunning cells with 'd:\\dataScience\\mlproject\\venv\\python.exe' requires the ipykernel package.\n",
      "\u001b[1;31mRun the following command to install 'ipykernel' into the Python environment. \n",
      "\u001b[1;31mCommand: 'conda install -p d:\\dataScience\\mlproject\\venv ipykernel --update-deps --force-reinstall'"
     ]
    }
   ],
   "source": [
    "group_data2 = df.groupby('race_ethnicity')\n",
    "f,ax = plt.subplots(1,3,figsize=(15,6))\n",
    "sns.barplot(x=group_data2.math_score.mean().index,y=group_data2.math_score.mean().values,palette='mako',ax=ax[0])\n",
    "ax[0].set_title('Math score',color='#005ce6',size=20)\n",
    "for container in ax[0].containers:\n",
    "    ax[0].bar_label(container,color='black',size=8)\n",
    "\n",
    "sns.barplot(x=group_data2.reading_score.mean().index,y=group_data2.reading_score.mean().values,palette='flare',ax=ax[1])\n",
    "ax[1].set_title('Reading score',color='#005ce6',size=20)\n",
    "for container in ax[1].containers:\n",
    "    ax[1].bar_label(container,color='black',size=8)\n",
    "\n",
    "\n",
    "sns.barplot(x=group_data2.writing_score.mean().index,y=group_data2.writing_score.mean().values,palette='coolwarm'  ,ax=ax[2])\n",
    "ax[2].set_title('Writing score',color='#005ce6',size=20)\n",
    "for container in ax[2].containers:\n",
    "    ax[2].bar_label(container,color='black',size=8)    "
   ]
  },
  {
   "cell_type": "markdown",
   "metadata": {},
   "source": [
    "**Insights**"
   ]
  },
  {
   "cell_type": "markdown",
   "metadata": {},
   "source": [
    "* Group E has scored highest marks.\n",
    "* Group A has scored lowest marks."
   ]
  },
  {
   "cell_type": "markdown",
   "metadata": {},
   "source": [
    "**4.4.3 Parental level of education column**"
   ]
  },
  {
   "cell_type": "markdown",
   "metadata": {},
   "source": [
    "* What is the educational background of parents??\n",
    "* Has parental level of education any impact on students performance??"
   ]
  },
  {
   "cell_type": "markdown",
   "metadata": {},
   "source": [
    "**Univariate analysis (whats is the educational back ground of parents?)**"
   ]
  },
  {
   "cell_type": "code",
   "execution_count": null,
   "metadata": {},
   "outputs": [
    {
     "ename": "",
     "evalue": "",
     "output_type": "error",
     "traceback": [
      "\u001b[1;31mRunning cells with 'd:\\dataScience\\mlproject\\venv\\python.exe' requires the ipykernel package.\n",
      "\u001b[1;31mRun the following command to install 'ipykernel' into the Python environment. \n",
      "\u001b[1;31mCommand: 'conda install -p d:\\dataScience\\mlproject\\venv ipykernel --update-deps --force-reinstall'"
     ]
    }
   ],
   "source": []
  },
  {
   "cell_type": "code",
   "execution_count": null,
   "metadata": {},
   "outputs": [
    {
     "ename": "",
     "evalue": "",
     "output_type": "error",
     "traceback": [
      "\u001b[1;31mRunning cells with 'd:\\dataScience\\mlproject\\venv\\python.exe' requires the ipykernel package.\n",
      "\u001b[1;31mRun the following command to install 'ipykernel' into the Python environment. \n",
      "\u001b[1;31mCommand: 'conda install -p d:\\dataScience\\mlproject\\venv ipykernel --update-deps --force-reinstall'"
     ]
    }
   ],
   "source": []
  }
 ],
 "metadata": {
  "kernelspec": {
   "display_name": "base",
   "language": "python",
   "name": "python3"
  },
  "language_info": {
   "codemirror_mode": {
    "name": "ipython",
    "version": 3
   },
   "file_extension": ".py",
   "mimetype": "text/x-python",
   "name": "python",
   "nbconvert_exporter": "python",
   "pygments_lexer": "ipython3",
   "version": "3.10.0"
  },
  "orig_nbformat": 4
 },
 "nbformat": 4,
 "nbformat_minor": 2
}
